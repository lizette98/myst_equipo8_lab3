{
 "cells": [
  {
   "cell_type": "markdown",
   "metadata": {},
   "source": [
    "<img src=\"http://oci02.img.iteso.mx/identidad_de_instancia_2018/ITESO/Logos%20ITESO/Logo-ITESO-Principal.jpg\">"
   ]
  },
  {
   "cell_type": "markdown",
   "metadata": {},
   "source": [
    "<center><font color=#555555><font size=6> Ingeniería Financiera </font> <br> <br>\n",
    "\n",
    "<center><font color=#555555><font size=5> ITE1731 - Microestructura y Sistemas de Trading </font> <br> <br> <br>\n",
    "\n",
    "<center><font color=#555555><font size=5> I.F. Andrea Lizette Contreras González </font> <br> <br>\n",
    "<center><font color=#555555><font size=5> I.F. Isamar García Gómez </font> <br> <br>\n",
    "   \n",
    "<center> <font color= #555555> <font size = 4> 01 de noviembre 2020 </a> | <font color= #555555> <font size = 4> Repositorio: <a href='https://github.com/lizette98/myst_equipo8_lab3'>Link</a></font>"
   ]
  },
  {
   "cell_type": "markdown",
   "metadata": {},
   "source": [
    "<br>"
   ]
  },
  {
   "cell_type": "markdown",
   "metadata": {},
   "source": [
    "---"
   ]
  },
  {
   "cell_type": "markdown",
   "metadata": {},
   "source": [
    "<br>"
   ]
  },
  {
   "cell_type": "markdown",
   "metadata": {},
   "source": [
    "<br>"
   ]
  },
  {
   "cell_type": "markdown",
   "metadata": {},
   "source": [
    "<center> <font color= #555555> <font size = 7> Laboratorio 3 </font> <br> <br> <font color= #555555> <font size = 5> Behavioral Finance </font>"
   ]
  },
  {
   "cell_type": "markdown",
   "metadata": {},
   "source": [
    "# <font color= #555555> <font size = 5> Abstract </font>"
   ]
  },
  {
   "cell_type": "markdown",
   "metadata": {},
   "source": [
    "<font color= #6B6B6B> <font size = 2> Este documento fue elaborado por tu **Andrea Lizette Contreras González**, **Isamar García Gómez** como un trabajo parcial para la materia de **Microestructura y Sistemas de Trading - ITE1731**, la cual es parte del curriculum de la licenciatura en Ingeniería Financiera, ofertada por la universidad **ITESO**. Este laboratorio tiene como propósito particular el elaborar herramientas para el análisis del desempeño de la actividad de trading, desde el punto de vista de la cuenta y desde el punto de vista de la persona que opera la cuenta (trader). *</font> "
   ]
  },
  {
   "cell_type": "markdown",
   "metadata": {},
   "source": [
    "<br>"
   ]
  },
  {
   "cell_type": "markdown",
   "metadata": {},
   "source": [
    "# <font color= #6B6B6B> <font size = 6> 0. Librerías y Dependencias </font>"
   ]
  },
  {
   "cell_type": "markdown",
   "metadata": {},
   "source": [
    "<hr style=\"border:0.02in solid gray\"> </hr>"
   ]
  },
  {
   "cell_type": "markdown",
   "metadata": {},
   "source": [
    "# <font color= #6B6B6B> <font size = 5> 0.1 Librerías </font> <font color= #555555>"
   ]
  },
  {
   "cell_type": "markdown",
   "metadata": {},
   "source": [
    "Para correr este notebook es necesario tener instaladas y/o en el archivo _requirements.txt_ las siguientes librerías :"
   ]
  },
  {
   "cell_type": "markdown",
   "metadata": {},
   "source": [
    "- pandas>=1.1.1 \n",
    "- numpy>=1.19.1\n",
    "- jupyter>=1.0.0"
   ]
  },
  {
   "cell_type": "markdown",
   "metadata": {},
   "source": [
    "# <font color= #6B6B6B> <font size = 5> 0.2 Dependencias </font> <font color= #555555>"
   ]
  },
  {
   "cell_type": "markdown",
   "metadata": {},
   "source": [
    "Para correr este notebook es necesario contar con los siguientes archivos y dependencias externas:"
   ]
  },
  {
   "cell_type": "markdown",
   "metadata": {},
   "source": [
    "- files/historicos.csv : Históricos de operaciones en Oanda\n",
    "- files/Oanda_Instruments.xlsx : Archivo de Oanda con información de todos los activos disponibles."
   ]
  },
  {
   "cell_type": "markdown",
   "metadata": {},
   "source": [
    "<br>"
   ]
  },
  {
   "cell_type": "markdown",
   "metadata": {},
   "source": [
    "# <font color= #6B6B6B> <font size = 6> 1. Introducción </font>"
   ]
  },
  {
   "cell_type": "markdown",
   "metadata": {},
   "source": [
    "<hr style=\"border:0.02in solid gray\"> </hr>"
   ]
  },
  {
   "cell_type": "markdown",
   "metadata": {},
   "source": []
  },
  {
   "cell_type": "markdown",
   "metadata": {},
   "source": [
    "<br>"
   ]
  },
  {
   "cell_type": "markdown",
   "metadata": {},
   "source": [
    "# <font color= #6B6B6B> <font size = 6> 2. Objetivos </font>"
   ]
  },
  {
   "cell_type": "markdown",
   "metadata": {},
   "source": [
    "<hr style=\"border:0.02in solid gray\"> </hr>"
   ]
  },
  {
   "cell_type": "markdown",
   "metadata": {},
   "source": []
  },
  {
   "cell_type": "markdown",
   "metadata": {},
   "source": [
    "<br>"
   ]
  },
  {
   "cell_type": "markdown",
   "metadata": {},
   "source": [
    "# <font color= #6B6B6B> <font size = 6> 3. Datos </font>"
   ]
  },
  {
   "cell_type": "markdown",
   "metadata": {},
   "source": [
    "<hr style=\"border:0.02in solid gray\"> </hr>"
   ]
  },
  {
   "cell_type": "markdown",
   "metadata": {},
   "source": []
  },
  {
   "cell_type": "code",
   "execution_count": 1,
   "metadata": {},
   "outputs": [],
   "source": [
    "# En esta sección es opcional incluir código para mostrar/visualizar\n",
    "# los datos con los que se trabajó en el laboratorio"
   ]
  },
  {
   "cell_type": "markdown",
   "metadata": {},
   "source": [
    "<br>"
   ]
  },
  {
   "cell_type": "markdown",
   "metadata": {},
   "source": [
    "# <font color= #6B6B6B> <font size = 6> 4. Procesos </font>"
   ]
  },
  {
   "cell_type": "markdown",
   "metadata": {},
   "source": [
    "<hr style=\"border:0.02in solid gray\"> </hr>"
   ]
  },
  {
   "cell_type": "markdown",
   "metadata": {},
   "source": []
  },
  {
   "cell_type": "code",
   "execution_count": 2,
   "metadata": {},
   "outputs": [],
   "source": [
    "# aqui se incluye toda la secuencia de main.py.\n",
    "# tomando los pasos en los que fuiste haciendo todos los calculos\n",
    "# y poniendo cada uno como un subtitulo con markdown de nivel dos, así ## subtitulo de mi paso"
   ]
  },
  {
   "cell_type": "code",
   "execution_count": 12,
   "metadata": {},
   "outputs": [],
   "source": [
    "import functions as fn\n",
    "import data as dt"
   ]
  },
  {
   "cell_type": "code",
   "execution_count": 15,
   "metadata": {},
   "outputs": [
    {
     "data": {
      "text/html": [
       "<div>\n",
       "<style scoped>\n",
       "    .dataframe tbody tr th:only-of-type {\n",
       "        vertical-align: middle;\n",
       "    }\n",
       "\n",
       "    .dataframe tbody tr th {\n",
       "        vertical-align: top;\n",
       "    }\n",
       "\n",
       "    .dataframe thead th {\n",
       "        text-align: right;\n",
       "    }\n",
       "</style>\n",
       "<table border=\"1\" class=\"dataframe\">\n",
       "  <thead>\n",
       "    <tr style=\"text-align: right;\">\n",
       "      <th></th>\n",
       "      <th>Ticket</th>\n",
       "      <th>Open Time</th>\n",
       "      <th>Type</th>\n",
       "      <th>Size</th>\n",
       "      <th>Item</th>\n",
       "      <th>Price</th>\n",
       "      <th>S / L</th>\n",
       "      <th>T / P</th>\n",
       "      <th>Close Time</th>\n",
       "      <th>Price.1</th>\n",
       "      <th>Commission</th>\n",
       "      <th>Taxes</th>\n",
       "      <th>Swap</th>\n",
       "      <th>Profit</th>\n",
       "    </tr>\n",
       "  </thead>\n",
       "  <tbody>\n",
       "    <tr>\n",
       "      <th>0</th>\n",
       "      <td>226653203</td>\n",
       "      <td>2020-09-22 01:48:27</td>\n",
       "      <td>sell</td>\n",
       "      <td>0.07</td>\n",
       "      <td></td>\n",
       "      <td>1.28156</td>\n",
       "      <td>1.28983</td>\n",
       "      <td>1.26437</td>\n",
       "      <td>2020-09-22 20:23:37</td>\n",
       "      <td>1.27306</td>\n",
       "      <td>0</td>\n",
       "      <td>0</td>\n",
       "      <td>0</td>\n",
       "      <td>59.50</td>\n",
       "    </tr>\n",
       "    <tr>\n",
       "      <th>1</th>\n",
       "      <td>226656970</td>\n",
       "      <td>2020-09-22 07:35:39</td>\n",
       "      <td>buy</td>\n",
       "      <td>0.10</td>\n",
       "      <td></td>\n",
       "      <td>0.91805</td>\n",
       "      <td>0.91555</td>\n",
       "      <td>0.92305</td>\n",
       "      <td>2020-09-22 11:30:46</td>\n",
       "      <td>0.91554</td>\n",
       "      <td>0</td>\n",
       "      <td>0</td>\n",
       "      <td>0</td>\n",
       "      <td>-32.35</td>\n",
       "    </tr>\n",
       "    <tr>\n",
       "      <th>2</th>\n",
       "      <td>226671055</td>\n",
       "      <td>2020-09-22 01:48:27</td>\n",
       "      <td>sell</td>\n",
       "      <td>0.02</td>\n",
       "      <td></td>\n",
       "      <td>1.28156</td>\n",
       "      <td>1.28983</td>\n",
       "      <td>1.26437</td>\n",
       "      <td>2020-09-23 18:52:39</td>\n",
       "      <td>1.27465</td>\n",
       "      <td>0</td>\n",
       "      <td>0</td>\n",
       "      <td>0</td>\n",
       "      <td>17.28</td>\n",
       "    </tr>\n",
       "    <tr>\n",
       "      <th>3</th>\n",
       "      <td>226697016</td>\n",
       "      <td>2020-09-23 02:28:55</td>\n",
       "      <td>sell</td>\n",
       "      <td>0.10</td>\n",
       "      <td></td>\n",
       "      <td>0.91978</td>\n",
       "      <td>0.92414</td>\n",
       "      <td>0.90654</td>\n",
       "      <td>2020-09-23 17:56:36</td>\n",
       "      <td>0.92414</td>\n",
       "      <td>0</td>\n",
       "      <td>0</td>\n",
       "      <td>0</td>\n",
       "      <td>-47.42</td>\n",
       "    </tr>\n",
       "    <tr>\n",
       "      <th>4</th>\n",
       "      <td>226715730</td>\n",
       "      <td>2020-09-23 23:36:45</td>\n",
       "      <td>buy</td>\n",
       "      <td>0.10</td>\n",
       "      <td></td>\n",
       "      <td>0.91688</td>\n",
       "      <td>0.91433</td>\n",
       "      <td>0.92263</td>\n",
       "      <td>2020-09-24 11:48:12</td>\n",
       "      <td>0.91432</td>\n",
       "      <td>0</td>\n",
       "      <td>0</td>\n",
       "      <td>0</td>\n",
       "      <td>-32.80</td>\n",
       "    </tr>\n",
       "  </tbody>\n",
       "</table>\n",
       "</div>"
      ],
      "text/plain": [
       "      Ticket           Open Time  Type  Size Item    Price    S / L    T / P  \\\n",
       "0  226653203 2020-09-22 01:48:27  sell  0.07       1.28156  1.28983  1.26437   \n",
       "1  226656970 2020-09-22 07:35:39   buy  0.10       0.91805  0.91555  0.92305   \n",
       "2  226671055 2020-09-22 01:48:27  sell  0.02       1.28156  1.28983  1.26437   \n",
       "3  226697016 2020-09-23 02:28:55  sell  0.10       0.91978  0.92414  0.90654   \n",
       "4  226715730 2020-09-23 23:36:45   buy  0.10       0.91688  0.91433  0.92263   \n",
       "\n",
       "           Close Time  Price.1  Commission  Taxes  Swap  Profit  \n",
       "0 2020-09-22 20:23:37  1.27306           0      0     0   59.50  \n",
       "1 2020-09-22 11:30:46  0.91554           0      0     0  -32.35  \n",
       "2 2020-09-23 18:52:39  1.27465           0      0     0   17.28  \n",
       "3 2020-09-23 17:56:36  0.92414           0      0     0  -47.42  \n",
       "4 2020-09-24 11:48:12  0.91432           0      0     0  -32.80  "
      ]
     },
     "execution_count": 15,
     "metadata": {},
     "output_type": "execute_result"
    }
   ],
   "source": [
    "# --- 1.1 Funcion para leer el archivo ya limpio.\n",
    "archivo = dt.archivo\n",
    "df_data = fn.f_leer_archivo(param_archivo=archivo)\n",
    "df_data.head()"
   ]
  },
  {
   "cell_type": "code",
   "execution_count": 16,
   "metadata": {},
   "outputs": [],
   "source": [
    "# --- 1.2 Funcion para obtener el multiplicador para diferencia de pips\n",
    "ins = dt.ins\n",
    "# En param_ins se escribe el activo deseado\n",
    "pip_size = fn.f_pip_size(param_ins='eurusd')\n",
    "print(pip_size)"
   ]
  },
  {
   "cell_type": "markdown",
   "metadata": {},
   "source": [
    "<br>"
   ]
  },
  {
   "cell_type": "markdown",
   "metadata": {},
   "source": [
    "# <font color= #6B6B6B> <font size = 6> 5. Conclusiones </font>"
   ]
  },
  {
   "cell_type": "markdown",
   "metadata": {},
   "source": [
    "<hr style=\"border:0.02in solid gray\"> </hr>"
   ]
  },
  {
   "cell_type": "markdown",
   "metadata": {},
   "source": []
  },
  {
   "cell_type": "code",
   "execution_count": 3,
   "metadata": {},
   "outputs": [],
   "source": [
    "# en esta seccion es opcional incluir algun codigo para mostrar\n",
    "# visualmente algun concepto o hallazgo relevante como conclusion"
   ]
  }
 ],
 "metadata": {
  "kernelspec": {
   "display_name": "Python 3",
   "language": "python",
   "name": "python3"
  },
  "language_info": {
   "codemirror_mode": {
    "name": "ipython",
    "version": 3
   },
   "file_extension": ".py",
   "mimetype": "text/x-python",
   "name": "python",
   "nbconvert_exporter": "python",
   "pygments_lexer": "ipython3",
   "version": "3.8.3"
  }
 },
 "nbformat": 4,
 "nbformat_minor": 4
}
