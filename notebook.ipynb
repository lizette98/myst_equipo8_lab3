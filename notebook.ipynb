{
 "cells": [
  {
   "cell_type": "markdown",
   "metadata": {},
   "source": [
    "<img src=\"http://oci02.img.iteso.mx/identidad_de_instancia_2018/ITESO/Logos%20ITESO/Logo-ITESO-Principal.jpg\">"
   ]
  },
  {
   "cell_type": "markdown",
   "metadata": {},
   "source": [
    "<center><font color=#555555><font size=6> Ingeniería Financiera </font> <br> <br>\n",
    "\n",
    "<center><font color=#555555><font size=5> ITE1731 - Microestructura y Sistemas de Trading </font> <br> <br> <br>\n",
    "\n",
    "<center><font color=#555555><font size=5> I.F. Andrea Lizette Contreras González </font> <br> <br>\n",
    "<center><font color=#555555><font size=5> I.F. Isamar García Gómez </font> <br> <br>\n",
    "   \n",
    "<center> <font color= #555555> <font size = 4> 01 de noviembre 2020 </a> | <font color= #555555> <font size = 4> Repositorio: <a href='https://github.com/lizette98/myst_equipo8_lab3'>Link</a></font>"
   ]
  },
  {
   "cell_type": "markdown",
   "metadata": {},
   "source": [
    "<br>"
   ]
  },
  {
   "cell_type": "markdown",
   "metadata": {},
   "source": [
    "---"
   ]
  },
  {
   "cell_type": "markdown",
   "metadata": {},
   "source": [
    "<br>"
   ]
  },
  {
   "cell_type": "markdown",
   "metadata": {},
   "source": [
    "<br>"
   ]
  },
  {
   "cell_type": "markdown",
   "metadata": {},
   "source": [
    "<center> <font color= #555555> <font size = 7> Laboratorio 3 </font> <br> <br> <font color= #555555> <font size = 5> Behavioral Finance </font>"
   ]
  },
  {
   "cell_type": "markdown",
   "metadata": {},
   "source": [
    "# <font color= #555555> <font size = 5> Abstract </font>"
   ]
  },
  {
   "cell_type": "markdown",
   "metadata": {},
   "source": [
    "<font color= #6B6B6B> <font size = 2> Este documento fue elaborado por tu **Andrea Lizette Contreras González**, **Isamar García Gómez** como un trabajo parcial para la materia de **Microestructura y Sistemas de Trading - ITE1731**, la cual es parte del curriculum de la licenciatura en Ingeniería Financiera, ofertada por la universidad **ITESO**. Este laboratorio tiene como propósito particular el elaborar herramientas para el análisis del desempeño de la actividad de trading, desde el punto de vista de la cuenta y desde el punto de vista de la persona que opera la cuenta (trader). *</font> "
   ]
  },
  {
   "cell_type": "markdown",
   "metadata": {},
   "source": [
    "<br>"
   ]
  },
  {
   "cell_type": "markdown",
   "metadata": {},
   "source": [
    "# <font color= #6B6B6B> <font size = 6> 0. Librerías y Dependencias </font>"
   ]
  },
  {
   "cell_type": "markdown",
   "metadata": {},
   "source": [
    "<hr style=\"border:0.02in solid gray\"> </hr>"
   ]
  },
  {
   "cell_type": "markdown",
   "metadata": {},
   "source": [
    "# <font color= #6B6B6B> <font size = 5> 0.1 Librerías </font> <font color= #555555>"
   ]
  },
  {
   "cell_type": "markdown",
   "metadata": {},
   "source": [
    "<font color= #6B6B6B>  </font> <font color= #555555>\n",
    "Para correr este notebook es necesario tener instaladas y/o en el archivo _requirements.txt_ las siguientes librerías :"
   ]
  },
  {
   "cell_type": "markdown",
   "metadata": {},
   "source": [
    "<font color= #6B6B6B>  </font> <font color= #555555>\n",
    "- pandas>=1.1.1 \n",
    "- numpy>=1.19.1\n",
    "- jupyter>=1.0.0"
   ]
  },
  {
   "cell_type": "markdown",
   "metadata": {},
   "source": [
    "# <font color= #6B6B6B> <font size = 5> 0.2 Dependencias </font> <font color= #555555>"
   ]
  },
  {
   "cell_type": "markdown",
   "metadata": {},
   "source": [
    "<font color= #6B6B6B>  </font> <font color= #555555>\n",
    "Para correr este notebook es necesario contar con los siguientes archivos y dependencias externas:"
   ]
  },
  {
   "cell_type": "markdown",
   "metadata": {},
   "source": [
    "<font color= #6B6B6B>  </font> <font color= #555555>\n",
    "- files/historicos.csv : Históricos de operaciones en Oanda\n",
    "- files/Oanda_Instruments.xlsx : Archivo de Oanda con información de todos los activos disponibles."
   ]
  },
  {
   "cell_type": "markdown",
   "metadata": {},
   "source": [
    "<br>"
   ]
  },
  {
   "cell_type": "markdown",
   "metadata": {},
   "source": [
    "# <font color= #6B6B6B> <font size = 6> 1. Introducción </font>"
   ]
  },
  {
   "cell_type": "markdown",
   "metadata": {},
   "source": [
    "<hr style=\"border:0.02in solid gray\"> </hr>"
   ]
  },
  {
   "cell_type": "markdown",
   "metadata": {},
   "source": []
  },
  {
   "cell_type": "markdown",
   "metadata": {},
   "source": [
    "<br>"
   ]
  },
  {
   "cell_type": "markdown",
   "metadata": {},
   "source": [
    "# <font color= #6B6B6B> <font size = 6> 2. Objetivos </font>"
   ]
  },
  {
   "cell_type": "markdown",
   "metadata": {},
   "source": [
    "<hr style=\"border:0.02in solid gray\"> </hr>"
   ]
  },
  {
   "cell_type": "markdown",
   "metadata": {},
   "source": []
  },
  {
   "cell_type": "markdown",
   "metadata": {},
   "source": [
    "<br>"
   ]
  },
  {
   "cell_type": "markdown",
   "metadata": {},
   "source": [
    "# <font color= #6B6B6B> <font size = 6> 3. Datos </font>"
   ]
  },
  {
   "cell_type": "markdown",
   "metadata": {},
   "source": [
    "<hr style=\"border:0.02in solid gray\"> </hr>"
   ]
  },
  {
   "cell_type": "markdown",
   "metadata": {},
   "source": [
    "<font color= #6B6B6B>  </font> <font color= #555555>\n",
    "En este laboratorio se utilizaron principalmente tres históricos diferentes en los cuales se operó durante dos semanas en Oanda para hacer trading.\n",
    "\n",
    "Dentro de estos históricos se muestra la información de cada operación, la fecha en que se realizo, el tipo ya sea compra o venta, el precio y su respectiva toma de ganancias o pérdidas (TP y SL), entre otros parámetros los cuales se muestran en la siguiente sección."
   ]
  },
  {
   "cell_type": "markdown",
   "metadata": {},
   "source": [
    "<br>"
   ]
  },
  {
   "cell_type": "markdown",
   "metadata": {},
   "source": [
    "# <font color= #6B6B6B> <font size = 6> 4. Procesos </font>"
   ]
  },
  {
   "cell_type": "markdown",
   "metadata": {},
   "source": [
    "<hr style=\"border:0.02in solid gray\"> </hr>"
   ]
  },
  {
   "cell_type": "markdown",
   "metadata": {},
   "source": [
    "<font color= #6B6B6B> <font size = 2>En esta sección se muestra de manera breve y gráfica el procedimiento para analizar el desempeño del trading, tanto de la cuenta como la persona que opera (trader) mediante funciones creadas en python.</font>"
   ]
  },
  {
   "cell_type": "markdown",
   "metadata": {},
   "source": [
    "<font color= #6B6B6B> <font size = 5.5> **4.1 Estadística Descriptiva** </font>"
   ]
  },
  {
   "cell_type": "markdown",
   "metadata": {},
   "source": [
    "<font color= #6B6B6B> <font size = 4.5> **4.1.1 Leer histórico de operaciones** </font>"
   ]
  },
  {
   "cell_type": "markdown",
   "metadata": {},
   "source": [
    "<font color= #6B6B6B> <font size = 2> Primero hacemos uso a una función para leer el archivo de históricos a analizar con ciertos cambios para poder trabajarlo. </font>"
   ]
  },
  {
   "cell_type": "code",
   "execution_count": 1,
   "metadata": {},
   "outputs": [],
   "source": [
    "import functions as fn\n",
    "import data as dt"
   ]
  },
  {
   "cell_type": "code",
   "execution_count": 2,
   "metadata": {},
   "outputs": [
    {
     "data": {
      "text/html": [
       "<div>\n",
       "<style scoped>\n",
       "    .dataframe tbody tr th:only-of-type {\n",
       "        vertical-align: middle;\n",
       "    }\n",
       "\n",
       "    .dataframe tbody tr th {\n",
       "        vertical-align: top;\n",
       "    }\n",
       "\n",
       "    .dataframe thead th {\n",
       "        text-align: right;\n",
       "    }\n",
       "</style>\n",
       "<table border=\"1\" class=\"dataframe\">\n",
       "  <thead>\n",
       "    <tr style=\"text-align: right;\">\n",
       "      <th></th>\n",
       "      <th>Ticket</th>\n",
       "      <th>Open Time</th>\n",
       "      <th>Type</th>\n",
       "      <th>Size</th>\n",
       "      <th>Item</th>\n",
       "      <th>Price</th>\n",
       "      <th>S / L</th>\n",
       "      <th>T / P</th>\n",
       "      <th>Close Time</th>\n",
       "      <th>Price.1</th>\n",
       "      <th>Commission</th>\n",
       "      <th>Taxes</th>\n",
       "      <th>Swap</th>\n",
       "      <th>Profit</th>\n",
       "    </tr>\n",
       "  </thead>\n",
       "  <tbody>\n",
       "    <tr>\n",
       "      <th>0</th>\n",
       "      <td>226653203</td>\n",
       "      <td>2020.09.22 01:48:27</td>\n",
       "      <td>sell</td>\n",
       "      <td>0.07</td>\n",
       "      <td>gbpusd</td>\n",
       "      <td>1.28156</td>\n",
       "      <td>1.28983</td>\n",
       "      <td>1.26437</td>\n",
       "      <td>2020.09.22 20:23:37</td>\n",
       "      <td>1.27306</td>\n",
       "      <td>0</td>\n",
       "      <td>0</td>\n",
       "      <td>0</td>\n",
       "      <td>59.50</td>\n",
       "    </tr>\n",
       "    <tr>\n",
       "      <th>1</th>\n",
       "      <td>226656970</td>\n",
       "      <td>2020.09.22 07:35:39</td>\n",
       "      <td>buy</td>\n",
       "      <td>0.10</td>\n",
       "      <td>eurgbp</td>\n",
       "      <td>0.91805</td>\n",
       "      <td>0.91555</td>\n",
       "      <td>0.92305</td>\n",
       "      <td>2020.09.22 11:30:46</td>\n",
       "      <td>0.91554</td>\n",
       "      <td>0</td>\n",
       "      <td>0</td>\n",
       "      <td>0</td>\n",
       "      <td>-32.35</td>\n",
       "    </tr>\n",
       "    <tr>\n",
       "      <th>2</th>\n",
       "      <td>226671055</td>\n",
       "      <td>2020.09.22 01:48:27</td>\n",
       "      <td>sell</td>\n",
       "      <td>0.02</td>\n",
       "      <td>gbpusd</td>\n",
       "      <td>1.28156</td>\n",
       "      <td>1.28983</td>\n",
       "      <td>1.26437</td>\n",
       "      <td>2020.09.23 18:52:39</td>\n",
       "      <td>1.27465</td>\n",
       "      <td>0</td>\n",
       "      <td>0</td>\n",
       "      <td>0</td>\n",
       "      <td>17.28</td>\n",
       "    </tr>\n",
       "    <tr>\n",
       "      <th>3</th>\n",
       "      <td>226697016</td>\n",
       "      <td>2020.09.23 02:28:55</td>\n",
       "      <td>sell</td>\n",
       "      <td>0.10</td>\n",
       "      <td>usdchf</td>\n",
       "      <td>0.91978</td>\n",
       "      <td>0.92414</td>\n",
       "      <td>0.90654</td>\n",
       "      <td>2020.09.23 17:56:36</td>\n",
       "      <td>0.92414</td>\n",
       "      <td>0</td>\n",
       "      <td>0</td>\n",
       "      <td>0</td>\n",
       "      <td>-47.42</td>\n",
       "    </tr>\n",
       "    <tr>\n",
       "      <th>4</th>\n",
       "      <td>226715730</td>\n",
       "      <td>2020.09.23 23:36:45</td>\n",
       "      <td>buy</td>\n",
       "      <td>0.10</td>\n",
       "      <td>eurgbp</td>\n",
       "      <td>0.91688</td>\n",
       "      <td>0.91433</td>\n",
       "      <td>0.92263</td>\n",
       "      <td>2020.09.24 11:48:12</td>\n",
       "      <td>0.91432</td>\n",
       "      <td>0</td>\n",
       "      <td>0</td>\n",
       "      <td>0</td>\n",
       "      <td>-32.80</td>\n",
       "    </tr>\n",
       "  </tbody>\n",
       "</table>\n",
       "</div>"
      ],
      "text/plain": [
       "      Ticket            Open Time  Type  Size    Item    Price    S / L  \\\n",
       "0  226653203  2020.09.22 01:48:27  sell  0.07  gbpusd  1.28156  1.28983   \n",
       "1  226656970  2020.09.22 07:35:39   buy  0.10  eurgbp  0.91805  0.91555   \n",
       "2  226671055  2020.09.22 01:48:27  sell  0.02  gbpusd  1.28156  1.28983   \n",
       "3  226697016  2020.09.23 02:28:55  sell  0.10  usdchf  0.91978  0.92414   \n",
       "4  226715730  2020.09.23 23:36:45   buy  0.10  eurgbp  0.91688  0.91433   \n",
       "\n",
       "     T / P           Close Time  Price.1  Commission  Taxes  Swap  Profit  \n",
       "0  1.26437  2020.09.22 20:23:37  1.27306           0      0     0   59.50  \n",
       "1  0.92305  2020.09.22 11:30:46  0.91554           0      0     0  -32.35  \n",
       "2  1.26437  2020.09.23 18:52:39  1.27465           0      0     0   17.28  \n",
       "3  0.90654  2020.09.23 17:56:36  0.92414           0      0     0  -47.42  \n",
       "4  0.92263  2020.09.24 11:48:12  0.91432           0      0     0  -32.80  "
      ]
     },
     "execution_count": 2,
     "metadata": {},
     "output_type": "execute_result"
    }
   ],
   "source": [
    "archivo = dt.archivo\n",
    "df_data = fn.f_leer_archivo(param_archivo=archivo)\n",
    "df_data.head()"
   ]
  },
  {
   "cell_type": "markdown",
   "metadata": {},
   "source": [
    "<font color= #6B6B6B> <font size = 4.5> **4.1.2 Multiplicador para diferencia de pips** </font>"
   ]
  },
  {
   "cell_type": "markdown",
   "metadata": {},
   "source": [
    "<font color= #6B6B6B> <font size = 2> Esta función se utiliza para obtener el número multiplicador para expresar la diferencia de precios en pips.\n",
    "    \n",
    "Si se ingresa el nombre de un instrumento, regresa un número entero, según el instrumento, como multiplicador de pips."
   ]
  },
  {
   "cell_type": "code",
   "execution_count": 3,
   "metadata": {},
   "outputs": [
    {
     "name": "stdout",
     "output_type": "stream",
     "text": [
      "El multiplicador para el instrumentos es: 10000.0\n"
     ]
    }
   ],
   "source": [
    "ins = dt.ins\n",
    "# En param_ins se escribe el activo deseado\n",
    "pip_size = fn.f_pip_size(param_ins='eurusd')\n",
    "print(\"El multiplicador para el instrumentos es:\",pip_size)"
   ]
  },
  {
   "cell_type": "markdown",
   "metadata": {},
   "source": [
    "<font color= #6B6B6B> <font size = 4.5> **4.1.3 Transformaciones de tiempo** </font>"
   ]
  },
  {
   "cell_type": "markdown",
   "metadata": {},
   "source": [
    "<font color= #6B6B6B> <font size = 2> Creamos esta función para agregar la columna transformaciones del tiempo que permaneció abierta cada operación en segundos."
   ]
  },
  {
   "cell_type": "code",
   "execution_count": 4,
   "metadata": {},
   "outputs": [
    {
     "data": {
      "text/html": [
       "<div>\n",
       "<style scoped>\n",
       "    .dataframe tbody tr th:only-of-type {\n",
       "        vertical-align: middle;\n",
       "    }\n",
       "\n",
       "    .dataframe tbody tr th {\n",
       "        vertical-align: top;\n",
       "    }\n",
       "\n",
       "    .dataframe thead th {\n",
       "        text-align: right;\n",
       "    }\n",
       "</style>\n",
       "<table border=\"1\" class=\"dataframe\">\n",
       "  <thead>\n",
       "    <tr style=\"text-align: right;\">\n",
       "      <th></th>\n",
       "      <th>Ticket</th>\n",
       "      <th>OpenTime</th>\n",
       "      <th>Type</th>\n",
       "      <th>Size</th>\n",
       "      <th>Item</th>\n",
       "      <th>OpenPrice</th>\n",
       "      <th>S / L</th>\n",
       "      <th>T / P</th>\n",
       "      <th>CloseTime</th>\n",
       "      <th>ClosePrice</th>\n",
       "      <th>Commission</th>\n",
       "      <th>Taxes</th>\n",
       "      <th>Swap</th>\n",
       "      <th>Profit</th>\n",
       "      <th>tiempo</th>\n",
       "    </tr>\n",
       "  </thead>\n",
       "  <tbody>\n",
       "    <tr>\n",
       "      <th>0</th>\n",
       "      <td>226653203</td>\n",
       "      <td>2020-09-22 01:48:27</td>\n",
       "      <td>sell</td>\n",
       "      <td>0.07</td>\n",
       "      <td>gbpusd</td>\n",
       "      <td>1.28156</td>\n",
       "      <td>1.28983</td>\n",
       "      <td>1.26437</td>\n",
       "      <td>2020-09-22 20:23:37</td>\n",
       "      <td>1.27306</td>\n",
       "      <td>0</td>\n",
       "      <td>0</td>\n",
       "      <td>0</td>\n",
       "      <td>59.50</td>\n",
       "      <td>66910</td>\n",
       "    </tr>\n",
       "    <tr>\n",
       "      <th>1</th>\n",
       "      <td>226656970</td>\n",
       "      <td>2020-09-22 07:35:39</td>\n",
       "      <td>buy</td>\n",
       "      <td>0.10</td>\n",
       "      <td>eurgbp</td>\n",
       "      <td>0.91805</td>\n",
       "      <td>0.91555</td>\n",
       "      <td>0.92305</td>\n",
       "      <td>2020-09-22 11:30:46</td>\n",
       "      <td>0.91554</td>\n",
       "      <td>0</td>\n",
       "      <td>0</td>\n",
       "      <td>0</td>\n",
       "      <td>-32.35</td>\n",
       "      <td>14107</td>\n",
       "    </tr>\n",
       "    <tr>\n",
       "      <th>2</th>\n",
       "      <td>226671055</td>\n",
       "      <td>2020-09-22 01:48:27</td>\n",
       "      <td>sell</td>\n",
       "      <td>0.02</td>\n",
       "      <td>gbpusd</td>\n",
       "      <td>1.28156</td>\n",
       "      <td>1.28983</td>\n",
       "      <td>1.26437</td>\n",
       "      <td>2020-09-23 18:52:39</td>\n",
       "      <td>1.27465</td>\n",
       "      <td>0</td>\n",
       "      <td>0</td>\n",
       "      <td>0</td>\n",
       "      <td>17.28</td>\n",
       "      <td>61452</td>\n",
       "    </tr>\n",
       "  </tbody>\n",
       "</table>\n",
       "</div>"
      ],
      "text/plain": [
       "      Ticket            OpenTime  Type  Size    Item  OpenPrice    S / L  \\\n",
       "0  226653203 2020-09-22 01:48:27  sell  0.07  gbpusd    1.28156  1.28983   \n",
       "1  226656970 2020-09-22 07:35:39   buy  0.10  eurgbp    0.91805  0.91555   \n",
       "2  226671055 2020-09-22 01:48:27  sell  0.02  gbpusd    1.28156  1.28983   \n",
       "\n",
       "     T / P           CloseTime  ClosePrice  Commission  Taxes  Swap  Profit  \\\n",
       "0  1.26437 2020-09-22 20:23:37     1.27306           0      0     0   59.50   \n",
       "1  0.92305 2020-09-22 11:30:46     0.91554           0      0     0  -32.35   \n",
       "2  1.26437 2020-09-23 18:52:39     1.27465           0      0     0   17.28   \n",
       "\n",
       "   tiempo  \n",
       "0   66910  \n",
       "1   14107  \n",
       "2   61452  "
      ]
     },
     "execution_count": 4,
     "metadata": {},
     "output_type": "execute_result"
    }
   ],
   "source": [
    "df_data = fn.f_columnas_tiempos(param_data=df_data)\n",
    "df_data.head(3)"
   ]
  },
  {
   "cell_type": "markdown",
   "metadata": {},
   "source": [
    "<font color= #6B6B6B> <font size = 4.5> **4.1.4 Columnas de pips** </font>"
   ]
  },
  {
   "cell_type": "markdown",
   "metadata": {},
   "source": [
    "<font color= #6B6B6B> <font size = 2> En el mismo DataFrame utilizado anteriormente, creamos esta función para agregar nuevas columnas: \n",
    "\n",
    "- pips: Columna de pérdida o ganancia de la operación expresada en pips.\n",
    "- pips_acm: Pips acumulados por operación.\n",
    "- profit_acm: Profit en capital, que acumula la cuenta."
   ]
  },
  {
   "cell_type": "code",
   "execution_count": 11,
   "metadata": {},
   "outputs": [
    {
     "name": "stderr",
     "output_type": "stream",
     "text": [
      "C:\\Users\\andre\\Documents\\myst_equipo8_lab3\\functions.py:106: SettingWithCopyWarning: \n",
      "A value is trying to be set on a copy of a slice from a DataFrame\n",
      "\n",
      "See the caveats in the documentation: https://pandas.pydata.org/pandas-docs/stable/user_guide/indexing.html#returning-a-view-versus-a-copy\n",
      "  param_data['pips'][i] = (param_data['OpenPrice'][i] - param_data['ClosePrice'][i]) * n\n",
      "C:\\Users\\andre\\Documents\\myst_equipo8_lab3\\functions.py:109: SettingWithCopyWarning: \n",
      "A value is trying to be set on a copy of a slice from a DataFrame\n",
      "\n",
      "See the caveats in the documentation: https://pandas.pydata.org/pandas-docs/stable/user_guide/indexing.html#returning-a-view-versus-a-copy\n",
      "  param_data['pips'][i] = (param_data['ClosePrice'][i] - param_data['OpenPrice'][i]) * n\n"
     ]
    },
    {
     "data": {
      "text/html": [
       "<div>\n",
       "<style scoped>\n",
       "    .dataframe tbody tr th:only-of-type {\n",
       "        vertical-align: middle;\n",
       "    }\n",
       "\n",
       "    .dataframe tbody tr th {\n",
       "        vertical-align: top;\n",
       "    }\n",
       "\n",
       "    .dataframe thead th {\n",
       "        text-align: right;\n",
       "    }\n",
       "</style>\n",
       "<table border=\"1\" class=\"dataframe\">\n",
       "  <thead>\n",
       "    <tr style=\"text-align: right;\">\n",
       "      <th></th>\n",
       "      <th>Ticket</th>\n",
       "      <th>OpenTime</th>\n",
       "      <th>Type</th>\n",
       "      <th>Size</th>\n",
       "      <th>Item</th>\n",
       "      <th>OpenPrice</th>\n",
       "      <th>S / L</th>\n",
       "      <th>T / P</th>\n",
       "      <th>CloseTime</th>\n",
       "      <th>ClosePrice</th>\n",
       "      <th>Commission</th>\n",
       "      <th>Taxes</th>\n",
       "      <th>Swap</th>\n",
       "      <th>Profit</th>\n",
       "      <th>tiempo</th>\n",
       "      <th>pips</th>\n",
       "      <th>pips_acm</th>\n",
       "      <th>profit_acm</th>\n",
       "      <th>profit_acm_d</th>\n",
       "    </tr>\n",
       "  </thead>\n",
       "  <tbody>\n",
       "    <tr>\n",
       "      <th>0</th>\n",
       "      <td>226653203</td>\n",
       "      <td>2020-09-22 01:48:27</td>\n",
       "      <td>sell</td>\n",
       "      <td>0.07</td>\n",
       "      <td>gbpusd</td>\n",
       "      <td>1.28156</td>\n",
       "      <td>1.28983</td>\n",
       "      <td>1.26437</td>\n",
       "      <td>2020-09-22 20:23:37</td>\n",
       "      <td>1.27306</td>\n",
       "      <td>0</td>\n",
       "      <td>0</td>\n",
       "      <td>0</td>\n",
       "      <td>59.50</td>\n",
       "      <td>66910</td>\n",
       "      <td>84</td>\n",
       "      <td>84</td>\n",
       "      <td>59.50</td>\n",
       "      <td>100059.50</td>\n",
       "    </tr>\n",
       "    <tr>\n",
       "      <th>1</th>\n",
       "      <td>226656970</td>\n",
       "      <td>2020-09-22 07:35:39</td>\n",
       "      <td>buy</td>\n",
       "      <td>0.10</td>\n",
       "      <td>eurgbp</td>\n",
       "      <td>0.91805</td>\n",
       "      <td>0.91555</td>\n",
       "      <td>0.92305</td>\n",
       "      <td>2020-09-22 11:30:46</td>\n",
       "      <td>0.91554</td>\n",
       "      <td>0</td>\n",
       "      <td>0</td>\n",
       "      <td>0</td>\n",
       "      <td>-32.35</td>\n",
       "      <td>14107</td>\n",
       "      <td>-25</td>\n",
       "      <td>59</td>\n",
       "      <td>27.15</td>\n",
       "      <td>100027.15</td>\n",
       "    </tr>\n",
       "    <tr>\n",
       "      <th>2</th>\n",
       "      <td>226671055</td>\n",
       "      <td>2020-09-22 01:48:27</td>\n",
       "      <td>sell</td>\n",
       "      <td>0.02</td>\n",
       "      <td>gbpusd</td>\n",
       "      <td>1.28156</td>\n",
       "      <td>1.28983</td>\n",
       "      <td>1.26437</td>\n",
       "      <td>2020-09-23 18:52:39</td>\n",
       "      <td>1.27465</td>\n",
       "      <td>0</td>\n",
       "      <td>0</td>\n",
       "      <td>0</td>\n",
       "      <td>17.28</td>\n",
       "      <td>61452</td>\n",
       "      <td>69</td>\n",
       "      <td>128</td>\n",
       "      <td>44.43</td>\n",
       "      <td>100044.43</td>\n",
       "    </tr>\n",
       "  </tbody>\n",
       "</table>\n",
       "</div>"
      ],
      "text/plain": [
       "      Ticket            OpenTime  Type  Size    Item  OpenPrice    S / L  \\\n",
       "0  226653203 2020-09-22 01:48:27  sell  0.07  gbpusd    1.28156  1.28983   \n",
       "1  226656970 2020-09-22 07:35:39   buy  0.10  eurgbp    0.91805  0.91555   \n",
       "2  226671055 2020-09-22 01:48:27  sell  0.02  gbpusd    1.28156  1.28983   \n",
       "\n",
       "     T / P           CloseTime  ClosePrice  Commission  Taxes  Swap  Profit  \\\n",
       "0  1.26437 2020-09-22 20:23:37     1.27306           0      0     0   59.50   \n",
       "1  0.92305 2020-09-22 11:30:46     0.91554           0      0     0  -32.35   \n",
       "2  1.26437 2020-09-23 18:52:39     1.27465           0      0     0   17.28   \n",
       "\n",
       "   tiempo  pips  pips_acm  profit_acm  profit_acm_d  \n",
       "0   66910    84        84       59.50     100059.50  \n",
       "1   14107   -25        59       27.15     100027.15  \n",
       "2   61452    69       128       44.43     100044.43  "
      ]
     },
     "execution_count": 11,
     "metadata": {},
     "output_type": "execute_result"
    }
   ],
   "source": [
    "df_data = fn.f_columnas_pips(param_data=df_data)\n",
    "df_data.head(3)"
   ]
  },
  {
   "cell_type": "markdown",
   "metadata": {},
   "source": [
    "<font color= #6B6B6B> <font size = 4.5> **4.1.5 Estadísticas Básicas** </font>"
   ]
  },
  {
   "cell_type": "markdown",
   "metadata": {},
   "source": [
    "<font color= #6B6B6B> <font size = 2> Para calcular estadisticas basicas y ranking por instrumentos creamos la siguiente función, en la cual resulta un diccionario con dos llaves:\n",
    "   \n",
    "**df_1_tabla:** Dataframe en donde se muestra el número de operaciones totales, ganadoras, perdedoras, y otras medidas que se muestran a continuación.\n",
    "<br>\n",
    "    \n",
    "**df_1_ranking:** DataFrame que muestra el ratio de efectividad de las operaciones realizadas con cada instrumento operado."
   ]
  },
  {
   "cell_type": "code",
   "execution_count": 12,
   "metadata": {},
   "outputs": [
    {
     "name": "stdout",
     "output_type": "stream",
     "text": [
      "{'df_1_tabla':                       valor                            descripcion\n",
      "Ops totales       17.000000                    Operaciones totales\n",
      "Ganadoras         10.000000                  Operaciones ganadoras\n",
      "Ganadoras_c        5.000000        Operaciones ganadoras de compra\n",
      "Ganadoras_v        5.000000         Operaciones ganadoras de venta\n",
      "Perdedoras         7.000000                 Operaciones perdedoras\n",
      "Perdedoras_c       5.000000       Operaciones perdedoras de compra\n",
      "Perdedoras_v       2.000000        Operaciones perdedoras de venta\n",
      "Mediana (Profit)  17.280000       Mediana de profit de operaciones\n",
      "Mediana (Pips)    24.000000         Mediana de pips de operaciones\n",
      "r_efectividad      0.588235  Ganadoras Totales/Operaciones Totales\n",
      "r_proporcion       1.428571   Ganadoras Totales/Perdedoras Totales\n",
      "r_efectividad_c    0.294118  Ganadoras Compras/Operaciones Totales\n",
      "r_efectividad_v    0.294118   Ganadoras Ventas/Operaciones Totales, 'df_1_ranking':               rank\n",
      "gbpusd  100.000000\n",
      "usdjpy  100.000000\n",
      "eurusd  100.000000\n",
      "usdcad  100.000000\n",
      "xauusd   66.666667\n",
      "usdchf   50.000000\n",
      "eurgbp   25.000000\n",
      "usdmxn    0.000000\n",
      "audusd    0.000000}\n"
     ]
    },
    {
     "name": "stderr",
     "output_type": "stream",
     "text": [
      "C:\\Users\\andre\\Documents\\myst_equipo8_lab3\\functions.py:160: UserWarning: Boolean Series key will be reindexed to match DataFrame index.\n",
      "  tb1 = pd.DataFrame({i: len(param_data[param_data.Profit > 0][param_data.Item == i]) / len(param_data[param_data.Item == i])\n"
     ]
    }
   ],
   "source": [
    "est_ba = fn.f_estadisticas_ba(param_data=df_data)\n",
    "print(est_ba)"
   ]
  },
  {
   "cell_type": "markdown",
   "metadata": {},
   "source": [
    "<br>"
   ]
  },
  {
   "cell_type": "markdown",
   "metadata": {},
   "source": [
    "<font color= #6B6B6B> <font size = 5.5> **4.2 Métricas de Atribución al Desempeño** </font>"
   ]
  },
  {
   "cell_type": "markdown",
   "metadata": {},
   "source": [
    "<font color= #6B6B6B> <font size = 4.5> **4.2.1 Columna de Evolución de Capital** </font>"
   ]
  },
  {
   "cell_type": "markdown",
   "metadata": {},
   "source": []
  },
  {
   "cell_type": "code",
   "execution_count": 7,
   "metadata": {},
   "outputs": [
    {
     "data": {
      "text/html": [
       "<div>\n",
       "<style scoped>\n",
       "    .dataframe tbody tr th:only-of-type {\n",
       "        vertical-align: middle;\n",
       "    }\n",
       "\n",
       "    .dataframe tbody tr th {\n",
       "        vertical-align: top;\n",
       "    }\n",
       "\n",
       "    .dataframe thead th {\n",
       "        text-align: right;\n",
       "    }\n",
       "</style>\n",
       "<table border=\"1\" class=\"dataframe\">\n",
       "  <thead>\n",
       "    <tr style=\"text-align: right;\">\n",
       "      <th></th>\n",
       "      <th>Ticket</th>\n",
       "      <th>OpenTime</th>\n",
       "      <th>Type</th>\n",
       "      <th>Size</th>\n",
       "      <th>Item</th>\n",
       "      <th>OpenPrice</th>\n",
       "      <th>S / L</th>\n",
       "      <th>T / P</th>\n",
       "      <th>CloseTime</th>\n",
       "      <th>ClosePrice</th>\n",
       "      <th>Commission</th>\n",
       "      <th>Taxes</th>\n",
       "      <th>Swap</th>\n",
       "      <th>Profit</th>\n",
       "      <th>tiempo</th>\n",
       "      <th>pips</th>\n",
       "      <th>pips_acm</th>\n",
       "      <th>profit_acm</th>\n",
       "      <th>profit_acm_d</th>\n",
       "    </tr>\n",
       "  </thead>\n",
       "  <tbody>\n",
       "    <tr>\n",
       "      <th>0</th>\n",
       "      <td>226653203</td>\n",
       "      <td>2020-09-22 01:48:27</td>\n",
       "      <td>sell</td>\n",
       "      <td>0.07</td>\n",
       "      <td>gbpusd</td>\n",
       "      <td>1.28156</td>\n",
       "      <td>1.28983</td>\n",
       "      <td>1.26437</td>\n",
       "      <td>2020-09-22 20:23:37</td>\n",
       "      <td>1.27306</td>\n",
       "      <td>0</td>\n",
       "      <td>0</td>\n",
       "      <td>0</td>\n",
       "      <td>59.50</td>\n",
       "      <td>66910</td>\n",
       "      <td>84</td>\n",
       "      <td>84</td>\n",
       "      <td>59.50</td>\n",
       "      <td>100059.50</td>\n",
       "    </tr>\n",
       "    <tr>\n",
       "      <th>1</th>\n",
       "      <td>226656970</td>\n",
       "      <td>2020-09-22 07:35:39</td>\n",
       "      <td>buy</td>\n",
       "      <td>0.10</td>\n",
       "      <td>eurgbp</td>\n",
       "      <td>0.91805</td>\n",
       "      <td>0.91555</td>\n",
       "      <td>0.92305</td>\n",
       "      <td>2020-09-22 11:30:46</td>\n",
       "      <td>0.91554</td>\n",
       "      <td>0</td>\n",
       "      <td>0</td>\n",
       "      <td>0</td>\n",
       "      <td>-32.35</td>\n",
       "      <td>14107</td>\n",
       "      <td>-25</td>\n",
       "      <td>59</td>\n",
       "      <td>27.15</td>\n",
       "      <td>100027.15</td>\n",
       "    </tr>\n",
       "    <tr>\n",
       "      <th>2</th>\n",
       "      <td>226671055</td>\n",
       "      <td>2020-09-22 01:48:27</td>\n",
       "      <td>sell</td>\n",
       "      <td>0.02</td>\n",
       "      <td>gbpusd</td>\n",
       "      <td>1.28156</td>\n",
       "      <td>1.28983</td>\n",
       "      <td>1.26437</td>\n",
       "      <td>2020-09-23 18:52:39</td>\n",
       "      <td>1.27465</td>\n",
       "      <td>0</td>\n",
       "      <td>0</td>\n",
       "      <td>0</td>\n",
       "      <td>17.28</td>\n",
       "      <td>61452</td>\n",
       "      <td>69</td>\n",
       "      <td>128</td>\n",
       "      <td>44.43</td>\n",
       "      <td>100044.43</td>\n",
       "    </tr>\n",
       "    <tr>\n",
       "      <th>3</th>\n",
       "      <td>226697016</td>\n",
       "      <td>2020-09-23 02:28:55</td>\n",
       "      <td>sell</td>\n",
       "      <td>0.10</td>\n",
       "      <td>usdchf</td>\n",
       "      <td>0.91978</td>\n",
       "      <td>0.92414</td>\n",
       "      <td>0.90654</td>\n",
       "      <td>2020-09-23 17:56:36</td>\n",
       "      <td>0.92414</td>\n",
       "      <td>0</td>\n",
       "      <td>0</td>\n",
       "      <td>0</td>\n",
       "      <td>-47.42</td>\n",
       "      <td>55661</td>\n",
       "      <td>-43</td>\n",
       "      <td>85</td>\n",
       "      <td>-2.99</td>\n",
       "      <td>99997.01</td>\n",
       "    </tr>\n",
       "    <tr>\n",
       "      <th>4</th>\n",
       "      <td>226715730</td>\n",
       "      <td>2020-09-23 23:36:45</td>\n",
       "      <td>buy</td>\n",
       "      <td>0.10</td>\n",
       "      <td>eurgbp</td>\n",
       "      <td>0.91688</td>\n",
       "      <td>0.91433</td>\n",
       "      <td>0.92263</td>\n",
       "      <td>2020-09-24 11:48:12</td>\n",
       "      <td>0.91432</td>\n",
       "      <td>0</td>\n",
       "      <td>0</td>\n",
       "      <td>0</td>\n",
       "      <td>-32.80</td>\n",
       "      <td>43887</td>\n",
       "      <td>-25</td>\n",
       "      <td>60</td>\n",
       "      <td>-35.79</td>\n",
       "      <td>99964.21</td>\n",
       "    </tr>\n",
       "  </tbody>\n",
       "</table>\n",
       "</div>"
      ],
      "text/plain": [
       "      Ticket            OpenTime  Type  Size    Item  OpenPrice    S / L  \\\n",
       "0  226653203 2020-09-22 01:48:27  sell  0.07  gbpusd    1.28156  1.28983   \n",
       "1  226656970 2020-09-22 07:35:39   buy  0.10  eurgbp    0.91805  0.91555   \n",
       "2  226671055 2020-09-22 01:48:27  sell  0.02  gbpusd    1.28156  1.28983   \n",
       "3  226697016 2020-09-23 02:28:55  sell  0.10  usdchf    0.91978  0.92414   \n",
       "4  226715730 2020-09-23 23:36:45   buy  0.10  eurgbp    0.91688  0.91433   \n",
       "\n",
       "     T / P           CloseTime  ClosePrice  Commission  Taxes  Swap  Profit  \\\n",
       "0  1.26437 2020-09-22 20:23:37     1.27306           0      0     0   59.50   \n",
       "1  0.92305 2020-09-22 11:30:46     0.91554           0      0     0  -32.35   \n",
       "2  1.26437 2020-09-23 18:52:39     1.27465           0      0     0   17.28   \n",
       "3  0.90654 2020-09-23 17:56:36     0.92414           0      0     0  -47.42   \n",
       "4  0.92263 2020-09-24 11:48:12     0.91432           0      0     0  -32.80   \n",
       "\n",
       "   tiempo  pips  pips_acm  profit_acm  profit_acm_d  \n",
       "0   66910    84        84       59.50     100059.50  \n",
       "1   14107   -25        59       27.15     100027.15  \n",
       "2   61452    69       128       44.43     100044.43  \n",
       "3   55661   -43        85       -2.99      99997.01  \n",
       "4   43887   -25        60      -35.79      99964.21  "
      ]
     },
     "execution_count": 7,
     "metadata": {},
     "output_type": "execute_result"
    }
   ],
   "source": [
    "profit_acum_d = fn.f_profit_acm_d(param_data=df_data)\n",
    "profit_acum_d.head()"
   ]
  },
  {
   "cell_type": "markdown",
   "metadata": {},
   "source": [
    "<font color= #6B6B6B> <font size = 4.5> **4.2.2 DataFrame de Evolución de Capital** </font>"
   ]
  },
  {
   "cell_type": "code",
   "execution_count": null,
   "metadata": {},
   "outputs": [],
   "source": []
  },
  {
   "cell_type": "code",
   "execution_count": 8,
   "metadata": {},
   "outputs": [
    {
     "data": {
      "text/html": [
       "<div>\n",
       "<style scoped>\n",
       "    .dataframe tbody tr th:only-of-type {\n",
       "        vertical-align: middle;\n",
       "    }\n",
       "\n",
       "    .dataframe tbody tr th {\n",
       "        vertical-align: top;\n",
       "    }\n",
       "\n",
       "    .dataframe thead th {\n",
       "        text-align: right;\n",
       "    }\n",
       "</style>\n",
       "<table border=\"1\" class=\"dataframe\">\n",
       "  <thead>\n",
       "    <tr style=\"text-align: right;\">\n",
       "      <th></th>\n",
       "      <th>timestamp</th>\n",
       "      <th>profit_d</th>\n",
       "      <th>profit_acm_d</th>\n",
       "    </tr>\n",
       "  </thead>\n",
       "  <tbody>\n",
       "    <tr>\n",
       "      <th>0</th>\n",
       "      <td>2020-09-22</td>\n",
       "      <td>27.15</td>\n",
       "      <td>100027.15</td>\n",
       "    </tr>\n",
       "    <tr>\n",
       "      <th>1</th>\n",
       "      <td>2020-09-23</td>\n",
       "      <td>-30.14</td>\n",
       "      <td>99997.01</td>\n",
       "    </tr>\n",
       "    <tr>\n",
       "      <th>2</th>\n",
       "      <td>2020-09-24</td>\n",
       "      <td>-130.19</td>\n",
       "      <td>99866.82</td>\n",
       "    </tr>\n",
       "    <tr>\n",
       "      <th>3</th>\n",
       "      <td>2020-09-25</td>\n",
       "      <td>1.99</td>\n",
       "      <td>99868.81</td>\n",
       "    </tr>\n",
       "    <tr>\n",
       "      <th>4</th>\n",
       "      <td>2020-09-26</td>\n",
       "      <td>0.00</td>\n",
       "      <td>99868.81</td>\n",
       "    </tr>\n",
       "  </tbody>\n",
       "</table>\n",
       "</div>"
      ],
      "text/plain": [
       "   timestamp  profit_d  profit_acm_d\n",
       "0 2020-09-22     27.15     100027.15\n",
       "1 2020-09-23    -30.14      99997.01\n",
       "2 2020-09-24   -130.19      99866.82\n",
       "3 2020-09-25      1.99      99868.81\n",
       "4 2020-09-26      0.00      99868.81"
      ]
     },
     "execution_count": 8,
     "metadata": {},
     "output_type": "execute_result"
    }
   ],
   "source": [
    "# --- 2.2 DataFrame de evolucion de capital\n",
    "evolucion_capital = fn.f_evolucion_capital(param_data=df_data)\n",
    "evolucion_capital.head()"
   ]
  },
  {
   "cell_type": "markdown",
   "metadata": {},
   "source": [
    "<font color= #6B6B6B> <font size = 4.5> **4.2.3 DataFrame de Medidas de Atribucion al Desempeño** </font>"
   ]
  },
  {
   "cell_type": "code",
   "execution_count": null,
   "metadata": {},
   "outputs": [],
   "source": []
  },
  {
   "cell_type": "code",
   "execution_count": 9,
   "metadata": {},
   "outputs": [
    {
     "data": {
      "text/html": [
       "<div>\n",
       "<style scoped>\n",
       "    .dataframe tbody tr th:only-of-type {\n",
       "        vertical-align: middle;\n",
       "    }\n",
       "\n",
       "    .dataframe tbody tr th {\n",
       "        vertical-align: top;\n",
       "    }\n",
       "\n",
       "    .dataframe thead th {\n",
       "        text-align: right;\n",
       "    }\n",
       "</style>\n",
       "<table border=\"1\" class=\"dataframe\">\n",
       "  <thead>\n",
       "    <tr style=\"text-align: right;\">\n",
       "      <th></th>\n",
       "      <th>metrica</th>\n",
       "      <th>valor</th>\n",
       "      <th>descripcion</th>\n",
       "    </tr>\n",
       "  </thead>\n",
       "  <tbody>\n",
       "    <tr>\n",
       "      <th>0</th>\n",
       "      <td>sharpe</td>\n",
       "      <td>0.209903</td>\n",
       "      <td>Sharpe Ratio</td>\n",
       "    </tr>\n",
       "    <tr>\n",
       "      <th>1</th>\n",
       "      <td>drawdown_capi</td>\n",
       "      <td>2020-09-22 00:00:00, 2020-09-29 00:00:00, $251.87</td>\n",
       "      <td>DrawDown de Capital</td>\n",
       "    </tr>\n",
       "    <tr>\n",
       "      <th>2</th>\n",
       "      <td>drawdup_capi</td>\n",
       "      <td>2020-09-29 00:00:00, 2020-10-02 00:00:00, $342...</td>\n",
       "      <td>DrawUp de Capital</td>\n",
       "    </tr>\n",
       "  </tbody>\n",
       "</table>\n",
       "</div>"
      ],
      "text/plain": [
       "         metrica                                              valor  \\\n",
       "0         sharpe                                           0.209903   \n",
       "1  drawdown_capi  2020-09-22 00:00:00, 2020-09-29 00:00:00, $251.87   \n",
       "2   drawdup_capi  2020-09-29 00:00:00, 2020-10-02 00:00:00, $342...   \n",
       "\n",
       "           descripcion  \n",
       "0         Sharpe Ratio  \n",
       "1  DrawDown de Capital  \n",
       "2    DrawUp de Capital  "
      ]
     },
     "execution_count": 9,
     "metadata": {},
     "output_type": "execute_result"
    }
   ],
   "source": [
    "# --- 2.3 DataFrame de Medidas de Atribucion al Desempeño\n",
    "MAD = fn.f_estadisticas_mad(param_data=df_data)\n",
    "MAD.head()"
   ]
  },
  {
   "cell_type": "markdown",
   "metadata": {},
   "source": [
    "# <font color= #6B6B6B> <font size = 6> 5. Conclusiones </font>"
   ]
  },
  {
   "cell_type": "markdown",
   "metadata": {},
   "source": [
    "<hr style=\"border:0.02in solid gray\"> </hr>"
   ]
  },
  {
   "cell_type": "markdown",
   "metadata": {},
   "source": []
  },
  {
   "cell_type": "code",
   "execution_count": 10,
   "metadata": {},
   "outputs": [],
   "source": [
    "# en esta seccion es opcional incluir algun codigo para mostrar\n",
    "# visualmente algun concepto o hallazgo relevante como conclusion"
   ]
  }
 ],
 "metadata": {
  "kernelspec": {
   "display_name": "Python 3",
   "language": "python",
   "name": "python3"
  },
  "language_info": {
   "codemirror_mode": {
    "name": "ipython",
    "version": 3
   },
   "file_extension": ".py",
   "mimetype": "text/x-python",
   "name": "python",
   "nbconvert_exporter": "python",
   "pygments_lexer": "ipython3",
   "version": "3.8.3"
  }
 },
 "nbformat": 4,
 "nbformat_minor": 4
}
